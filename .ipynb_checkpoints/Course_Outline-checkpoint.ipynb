{
 "cells": [
  {
   "cell_type": "markdown",
   "id": "a7bb6434",
   "metadata": {},
   "source": [
    "# DSP Fundamentals Course "
   ]
  },
  {
   "cell_type": "markdown",
   "id": "5b40e78d",
   "metadata": {},
   "source": [
    "# Outline"
   ]
  },
  {
   "cell_type": "markdown",
   "id": "ff891355",
   "metadata": {},
   "source": [
    "# Chapter 1: Introduction to Digital Signal Processing"
   ]
  },
  {
   "cell_type": "markdown",
   "id": "bcd82ef3",
   "metadata": {},
   "source": [
    "- What is Signal Processing? Analog vs Digital\n",
    "\n",
    "- Applications of DSP (Audio, Radar, Communications, IoT)\n",
    "\n",
    "- Continuous-Time vs Discrete-Time Signals\n",
    "\n",
    "- Introduction to Python for DSP"
   ]
  },
  {
   "cell_type": "markdown",
   "id": "e7d69b33",
   "metadata": {},
   "source": [
    "# Chapter 2: Discrete-Time Signals and Systems"
   ]
  },
  {
   "cell_type": "markdown",
   "id": "51aa09bc",
   "metadata": {},
   "source": [
    "- Signal types: unit impulse, step, ramp, exponential, sinusoidal\n",
    "\n",
    "- Signal operations: time-shifting, scaling, folding\n",
    "\n",
    "- System properties: linearity, time-invariance, causality, stability"
   ]
  },
  {
   "cell_type": "markdown",
   "id": "760f12b9",
   "metadata": {},
   "source": [
    "# Chapter 3: Convolution and Correlation"
   ]
  },
  {
   "cell_type": "markdown",
   "id": "3762c23d",
   "metadata": {},
   "source": [
    "- Linear Convolution (time domain)\n",
    "\n",
    "- Circular Convolution (DFT-based)\n",
    "\n",
    "- Cross-correlation and auto-correlation\n",
    "\n",
    "- Applications in filtering and detection"
   ]
  },
  {
   "cell_type": "markdown",
   "id": "b2d80117",
   "metadata": {},
   "source": [
    "# Chapter 4: Sampling and Quantization"
   ]
  },
  {
   "cell_type": "markdown",
   "id": "48d9b076",
   "metadata": {},
   "source": [
    "- Sampling Theorem (Nyquist)\n",
    "\n",
    "- Aliasing and anti-aliasing\n",
    "\n",
    "- Quantization and signal-to-quantization-noise ratio (SQNR)"
   ]
  },
  {
   "cell_type": "markdown",
   "id": "abe2a551",
   "metadata": {},
   "source": [
    "# Chapter 5: The Discrete Fourier Transform (DFT)"
   ]
  },
  {
   "cell_type": "markdown",
   "id": "a93d6cd3",
   "metadata": {},
   "source": [
    "- Frequency domain analysis\n",
    "\n",
    "- DFT and its properties\n",
    "\n",
    "- Fast Fourier Transform (FFT)\n",
    "\n",
    "- Spectral leakage and resolution"
   ]
  },
  {
   "cell_type": "markdown",
   "id": "e6d7e022",
   "metadata": {},
   "source": [
    "# Chapter 6: Z-Transform and System Analysis"
   ]
  },
  {
   "cell_type": "markdown",
   "id": "5f8342af",
   "metadata": {},
   "source": [
    "- Z-Transform definition and Region of Convergence\n",
    "\n",
    "- Transfer function and system stability\n",
    "\n",
    "- Inverse Z-transform (long division, partial fractions)"
   ]
  },
  {
   "cell_type": "markdown",
   "id": "a720ad61",
   "metadata": {},
   "source": [
    "# Chapter 7: Digital Filters – FIR and IIR"
   ]
  },
  {
   "cell_type": "markdown",
   "id": "2356bb80",
   "metadata": {},
   "source": [
    "- Difference equations and filter structures\n",
    "\n",
    "- FIR Filters: Design using window method\n",
    "\n",
    "- IIR Filters: Butterworth, Chebyshev, Elliptic\n",
    "\n",
    "- Filter stability, causality, and phase"
   ]
  },
  {
   "cell_type": "markdown",
   "id": "6d1da819",
   "metadata": {},
   "source": [
    "# Chapter 8: Multirate Signal Processing\n"
   ]
  },
  {
   "cell_type": "markdown",
   "id": "fe838864",
   "metadata": {},
   "source": [
    "- Decimation and Interpolation\n",
    "\n",
    "- Polyphase decomposition\n",
    "\n",
    "- Applications in efficient DSP systems"
   ]
  },
  {
   "cell_type": "markdown",
   "id": "09e9a896",
   "metadata": {},
   "source": [
    "# Chapter 9: Time-Frequency Analysis"
   ]
  },
  {
   "cell_type": "markdown",
   "id": "076efadc",
   "metadata": {},
   "source": [
    "- Short-Time Fourier Transform (STFT)\n",
    "\n",
    "- Windowing techniques: Hann, Hamming, Blackman\n",
    "\n",
    "- Spectrograms and resolution trade-offs"
   ]
  },
  {
   "cell_type": "markdown",
   "id": "31ae8056",
   "metadata": {},
   "source": [
    "# Chapter 10: Adaptive Filtering"
   ]
  },
  {
   "cell_type": "markdown",
   "id": "2bfebfbd",
   "metadata": {},
   "source": [
    "- LMS and RLS algorithms\n",
    "\n",
    "- Noise cancellation and system identification\n",
    "\n",
    "- Applications in biomedical, communication systems\n"
   ]
  },
  {
   "cell_type": "markdown",
   "id": "efdddb43",
   "metadata": {},
   "source": [
    "# Chapter 11: DSP Applications"
   ]
  },
  {
   "cell_type": "markdown",
   "id": "27a6aec7",
   "metadata": {},
   "source": [
    "- Audio processing (equalization, noise reduction)\n",
    "\n",
    "- RF and IoT signal analysis (e.g., LoRa)\n",
    "\n",
    "- Biomedical signals (ECG filtering)\n",
    "\n",
    "- DSP for ML pipelines (features from signals)"
   ]
  },
  {
   "cell_type": "markdown",
   "id": "57fb7716",
   "metadata": {},
   "source": [
    "# Chapter 12: Projects and Capstone"
   ]
  },
  {
   "cell_type": "markdown",
   "id": "100137d2",
   "metadata": {},
   "source": [
    "- Mini-projects:\n",
    "\n",
    "- Build a digital audio equalizer\n",
    "\n",
    "- RF Signal classifier\n",
    "\n",
    "- Real-time signal monitor (with GUI or notebook)\n",
    "\n",
    "- Final Project: End-to-end DSP pipeline"
   ]
  },
  {
   "cell_type": "markdown",
   "id": "18eff2a2",
   "metadata": {},
   "source": [
    "# References:"
   ]
  },
  {
   "cell_type": "markdown",
   "id": "4e45dd2f",
   "metadata": {},
   "source": [
    "We will be using Following References for this course:\n",
    "    \n",
    "    "
   ]
  },
  {
   "cell_type": "markdown",
   "id": "f9107771",
   "metadata": {},
   "source": [
    "***Digital Signal Processing Fundamentals and Applications*** By Li Tan DeVry University, Decatur, Georgia"
   ]
  },
  {
   "cell_type": "markdown",
   "id": "ed8b008f",
   "metadata": {},
   "source": [
    "***Think DSP Digital Signal Processing in Python*** Allen B. Downey, Green Tea Press\n",
    " Needham, Massachusetts"
   ]
  },
  {
   "cell_type": "markdown",
   "id": "5db55dc3",
   "metadata": {},
   "source": [
    "***Digital Signal Processing Using MATLAB*** Vinay K. Ingle John G. Proakis\n",
    " Northeastern University"
   ]
  },
  {
   "cell_type": "markdown",
   "id": "4e764567",
   "metadata": {},
   "source": [
    "And ChatGPT "
   ]
  },
  {
   "cell_type": "code",
   "execution_count": null,
   "id": "3f8c4546",
   "metadata": {},
   "outputs": [],
   "source": []
  }
 ],
 "metadata": {
  "kernelspec": {
   "display_name": "Python 3 (ipykernel)",
   "language": "python",
   "name": "python3"
  },
  "language_info": {
   "codemirror_mode": {
    "name": "ipython",
    "version": 3
   },
   "file_extension": ".py",
   "mimetype": "text/x-python",
   "name": "python",
   "nbconvert_exporter": "python",
   "pygments_lexer": "ipython3",
   "version": "3.9.13"
  }
 },
 "nbformat": 4,
 "nbformat_minor": 5
}
